{
  "nbformat": 4,
  "nbformat_minor": 0,
  "metadata": {
    "colab": {
      "name": "CHW3.ipynb",
      "provenance": [],
      "authorship_tag": "ABX9TyPVhiGFQOaxS7DLyvGUOAtp",
      "include_colab_link": true
    },
    "kernelspec": {
      "name": "python3",
      "display_name": "Python 3"
    },
    "language_info": {
      "name": "python"
    }
  },
  "cells": [
    {
      "cell_type": "markdown",
      "metadata": {
        "id": "view-in-github",
        "colab_type": "text"
      },
      "source": [
        "<a href=\"https://colab.research.google.com/github/ghanbarzadeh/Course_MachineVision_2021/blob/master/CHW3.ipynb\" target=\"_parent\"><img src=\"https://colab.research.google.com/assets/colab-badge.svg\" alt=\"Open In Colab\"/></a>"
      ]
    },
    {
      "cell_type": "code",
      "metadata": {
        "id": "H_42tosqR7pQ"
      },
      "source": [
        "# Download the images\n",
        "import urllib.request\n",
        "for i in range(1,15):\n",
        "    if i==10:\n",
        "        continue\n",
        "    urllib.request.urlretrieve(f'https://raw.githubusercontent.com/opencv/opencv/master/samples/data/left{i:02}.jpg', filename=f'left{i:02}.jpg')"
      ],
      "execution_count": 13,
      "outputs": []
    },
    {
      "cell_type": "code",
      "metadata": {
        "id": "OfCLASyISJu4"
      },
      "source": [
        "import numpy as np\n",
        "import cv2 as cv\n",
        "import glob\n",
        "\n",
        "# termination criteria\n",
        "criteria = (cv.TERM_CRITERIA_EPS + cv.TERM_CRITERIA_MAX_ITER, 30, 0.001)\n",
        "\n",
        "# prepare object points, like (0,0,0), (1,0,0), (2,0,0) ....,(6,5,0)\n",
        "objp = np.zeros((6*7,3), np.float32)\n",
        "objp[:,:2] = np.mgrid[0:7,0:6].T.reshape(-1,2)\n",
        "\n",
        "# Arrays to store object points and image points from all the images.\n",
        "objpoints = [] # 3d point in real world space\n",
        "imgpoints = [] # 2d points in image plane.\n",
        "images = glob.glob('*.jpg')\n",
        "\n",
        "for fname in images:\n",
        "    img = cv.imread(fname)\n",
        "    gray = cv.cvtColor(img, cv.COLOR_BGR2GRAY)\n",
        "    # Find the chess board corners\n",
        "    ret, corners = cv.findChessboardCorners(gray, (7,6), None)\n",
        "    # If found, add object points, image points (after refining them)\n",
        "    if ret == True:\n",
        "        objpoints.append(objp)\n",
        "        corners2 = cv.cornerSubPix(gray,corners, (11,11), (-1,-1), criteria)\n",
        "        imgpoints.append(corners)\n",
        "        # Draw and display the corners\n",
        "        cv.drawChessboardCorners(img, (7,6), corners2, ret)\n",
        "        cv.imshow('img', img)\n",
        "        cv.waitKey(500)\n",
        "cv.destroyAllWindows()"
      ],
      "execution_count": null,
      "outputs": []
    }
  ]
}