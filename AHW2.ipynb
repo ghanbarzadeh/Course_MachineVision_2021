{
  "nbformat": 4,
  "nbformat_minor": 0,
  "metadata": {
    "colab": {
      "name": "AHW2.ipynb",
      "provenance": [],
      "authorship_tag": "ABX9TyN9KRvin4/6DysWAZ6p21f0",
      "include_colab_link": true
    },
    "kernelspec": {
      "name": "python3",
      "display_name": "Python 3"
    },
    "language_info": {
      "name": "python"
    }
  },
  "cells": [
    {
      "cell_type": "markdown",
      "metadata": {
        "id": "view-in-github",
        "colab_type": "text"
      },
      "source": [
        "<a href=\"https://colab.research.google.com/github/ghanbarzadeh/Course_MachineVision_2021/blob/master/AHW2.ipynb\" target=\"_parent\"><img src=\"https://colab.research.google.com/assets/colab-badge.svg\" alt=\"Open In Colab\"/></a>"
      ]
    },
    {
      "cell_type": "code",
      "metadata": {
        "id": "Laa_-97MByfO"
      },
      "source": [
        "import numpy as np"
      ],
      "execution_count": 1,
      "outputs": []
    },
    {
      "cell_type": "code",
      "metadata": {
        "colab": {
          "base_uri": "https://localhost:8080/"
        },
        "id": "JF4Yw5gsB6QA",
        "outputId": "4fcc9ce3-6e67-43e2-ce0e-6d4d58641221"
      },
      "source": [
        "# Question 5.a\n",
        "\n",
        "I = np.array([[0, 0, 1, 4, 9], \n",
        "                  [1, 0, 5, 7, 11], \n",
        "                  [1, 4, 9, 12, 16], \n",
        "                  [3, 8, 11, 14, 16], \n",
        "                  [8, 10, 15, 16, 20]])\n",
        "SSD = []\n",
        "for u in range(-1, 2):\n",
        "    for v in range(-1, 2):\n",
        "        if v==0 and u==0:\n",
        "            continue\n",
        "        sum = np.sum((I[1+u:4+u, 1+v:4+v] - I[1:4, 1:4])**2)\n",
        "        print('u = {}, v = {} : {}'.format(u, v, sum))\n",
        "        SSD.append(sum)\n",
        "# Output:\n",
        "# u = -1, v = -1 : 323\n",
        "# u = -1, v = 0 : 106\n",
        "# u = -1, v = 1 : 18\n",
        "# u = 0, v = -1 : 116\n",
        "# u = 0, v = 1 : 117\n",
        "# u = 1, v = -1 : 11\n",
        "# u = 1, v = 0 : 105\n",
        "# u = 1, v = 1 : 411"
      ],
      "execution_count": 11,
      "outputs": [
        {
          "output_type": "stream",
          "name": "stdout",
          "text": [
            "u = -1, v = -1 : 323\n",
            "u = -1, v = 0 : 106\n",
            "u = -1, v = 1 : 18\n",
            "u = 0, v = -1 : 116\n",
            "u = 0, v = 1 : 117\n",
            "u = 1, v = -1 : 11\n",
            "u = 1, v = 0 : 105\n",
            "u = 1, v = 1 : 411\n"
          ]
        }
      ]
    },
    {
      "cell_type": "code",
      "metadata": {
        "colab": {
          "base_uri": "https://localhost:8080/"
        },
        "id": "B2uh0Z4ND92o",
        "outputId": "419fdea9-85f6-4298-b347-79b5eeae4201"
      },
      "source": [
        "# Question 5.e\n",
        "\n",
        "I = np.array([[0, 0, 1, 4, 9],\n",
        "             [1, 0, 5, 7, 11],\n",
        "             [1, 4, 9, 12, 16],\n",
        "             [3, 8, 11, 14, 16],\n",
        "             [8, 10, 15, 16, 20]])\n",
        "d = np.array([-1, 0, 1])\n",
        "Ix = np.zeros(I.shape)\n",
        "Iy = np.zeros(I.shape)\n",
        "for i in range(1,4):\n",
        "    for j in range(1,4):\n",
        "        Ix[i, j] = np.sum(I[i, j-1:j+2] * d)\n",
        "        Iy[i, j] = np.sum(I[i-1:i+2, j] * d)\n",
        "H = np.array([[np.sum(Ix**2), np.sum(Ix*Iy)],\n",
        "              [np.sum(Ix*Iy), np.sum(Iy**2)]])\n",
        "print('Harris matrix : {}'.format(H))\n",
        "k = 0.04\n",
        "c = np.linalg.det(H) - k * np.trace(H)\n",
        "print('Corner intensity  : {}'.format(c))"
      ],
      "execution_count": 38,
      "outputs": [
        {
          "output_type": "stream",
          "name": "stdout",
          "text": [
            "Harris matrix : [[403. 385.]\n",
            " [385. 381.]]\n",
            "Corner intensity  : 5286.640000000001\n"
          ]
        }
      ]
    },
    {
      "cell_type": "code",
      "metadata": {
        "id": "qYkNKB6dbbwT"
      },
      "source": [
        ""
      ],
      "execution_count": null,
      "outputs": []
    }
  ]
}