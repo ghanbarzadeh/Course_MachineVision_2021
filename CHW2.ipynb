{
  "nbformat": 4,
  "nbformat_minor": 0,
  "metadata": {
    "colab": {
      "name": "Untitled16.ipynb",
      "provenance": [],
      "collapsed_sections": [],
      "authorship_tag": "ABX9TyOUiVf9gPirOW46rAYT1TVc",
      "include_colab_link": true
    },
    "kernelspec": {
      "name": "python3",
      "display_name": "Python 3"
    },
    "language_info": {
      "name": "python"
    }
  },
  "cells": [
    {
      "cell_type": "markdown",
      "metadata": {
        "id": "view-in-github",
        "colab_type": "text"
      },
      "source": [
        "<a href=\"https://colab.research.google.com/github/ghanbarzadeh/Course_MachineVision_2021/blob/master/CHW2.ipynb\" target=\"_parent\"><img src=\"https://colab.research.google.com/assets/colab-badge.svg\" alt=\"Open In Colab\"/></a>"
      ]
    },
    {
      "cell_type": "code",
      "metadata": {
        "id": "EJTMegDp5SNj"
      },
      "source": [
        "import cv2\n",
        "import numpy as np\n",
        "import matplotlib.pyplot as plt"
      ],
      "execution_count": 1,
      "outputs": []
    },
    {
      "cell_type": "code",
      "metadata": {
        "id": "gVRQwdzDDvGs",
        "colab": {
          "base_uri": "https://localhost:8080/"
        },
        "outputId": "c0ad8ecf-d3ad-415e-c843-9e581644f572"
      },
      "source": [
        "!wget -O 'sunflowers.jpg' 'https://i1.wp.com/cdn-images-1.medium.com/max/800/1*ZoJgAJm_JYlk2re4yqXPxw.jpeg?w=750&ssl=1'"
      ],
      "execution_count": 6,
      "outputs": [
        {
          "output_type": "stream",
          "name": "stdout",
          "text": [
            "Warning: wildcards not supported in HTTP.\n",
            "--2021-11-04 09:49:41--  https://i1.wp.com/cdn-images-1.medium.com/max/800/1*ZoJgAJm_JYlk2re4yqXPxw.jpeg?w=750&ssl=1\n",
            "Resolving i1.wp.com (i1.wp.com)... 192.0.77.2\n",
            "Connecting to i1.wp.com (i1.wp.com)|192.0.77.2|:443... connected.\n",
            "HTTP request sent, awaiting response... 200 OK\n",
            "Length: 60604 (59K) [image/jpeg]\n",
            "Saving to: ‘sunflowers.jpg’\n",
            "\n",
            "\rsunflowers.jpg        0%[                    ]       0  --.-KB/s               \rsunflowers.jpg      100%[===================>]  59.18K  --.-KB/s    in 0.02s   \n",
            "\n",
            "2021-11-04 09:49:41 (3.01 MB/s) - ‘sunflowers.jpg’ saved [60604/60604]\n",
            "\n"
          ]
        }
      ]
    },
    {
      "cell_type": "code",
      "metadata": {
        "id": "_OF8BohwD-vs"
      },
      "source": [
        "img = cv2.imread(\"/content/sunflowers.jpg\",0) #gray scale conversion\n",
        "img = img/255.0  #image normalization"
      ],
      "execution_count": 7,
      "outputs": []
    },
    {
      "cell_type": "code",
      "metadata": {
        "id": "Zx70xgM7DwJr"
      },
      "source": [
        "# We will always use a filter size of 101*101 since computation is cheap!!\n",
        "def LoG(sigma):\n",
        "    d = 101\n",
        "    filter = np.zeros((d, d))\n",
        "    for i in range(d):\n",
        "        for j in range(d):\n",
        "            x = i-(d-1)/2\n",
        "            y = j-(d-1)/2\n",
        "            filter[i, j] = -1/np.pi/sigma**4*(1-(x**2+y**2)/2/sigma**2)*np.exp(-(x**2+y**2)/2/sigma**2)\n",
        "    return filter"
      ],
      "execution_count": 14,
      "outputs": []
    },
    {
      "cell_type": "code",
      "metadata": {
        "id": "MBIWaHdtXVxB"
      },
      "source": [
        ""
      ],
      "execution_count": null,
      "outputs": []
    },
    {
      "cell_type": "code",
      "metadata": {
        "id": "q3dQMI_tGdhU"
      },
      "source": [
        "# %%time\n",
        "k = 1.414\n",
        "sigma_start = 1.0\n",
        "def LoG_convolve(img):\n",
        "    log_images = [] #to store responses\n",
        "    for i in range(0,9):\n",
        "        sigma =  sigma_start * np.power(k,i) #sigma \n",
        "        filter = LoG(sigma) #filter generation\n",
        "        image = cv2.filter2D(img,-1,filter) # convolving image\n",
        "        image = np.pad(image,((1,1),(1,1)),'constant') #padding \n",
        "        image = np.square(image) \n",
        "        log_images.append(image)\n",
        "    return np.array(log_images) \n",
        "log_image = LoG_convolve(img)\n",
        "#print(log_image_np.shape)"
      ],
      "execution_count": 15,
      "outputs": []
    },
    {
      "cell_type": "code",
      "metadata": {
        "id": "EZPJS00oO4aD",
        "colab": {
          "base_uri": "https://localhost:8080/"
        },
        "outputId": "30e33487-1bbf-4ee7-c762-c812ca4cdd7f"
      },
      "source": [
        "%%time\n",
        "def detect_blob(log_image):\n",
        "    co_ordinates = [] #to store coordinates\n",
        "    (h,w) = img.shape\n",
        "    for i in range(1,h):\n",
        "        for j in range(1,w):\n",
        "            slice_img = log_image[:, i-1:i+2, j-1:j+2] #9*3*3 slice\n",
        "            result = np.max(slice_img) #finding maximum\n",
        "            if result >= 0.03: #threshold\n",
        "                z, x, y = np.unravel_index(slice_img.argmax(),slice_img.shape)\n",
        "                co_ordinates.append((i+x-1, j+y-1, sigma_start * np.power(k, z))) #finding co-rdinates\n",
        "    return co_ordinates\n",
        "co_ordinates = list(set(detect_blob(log_image)))"
      ],
      "execution_count": 17,
      "outputs": [
        {
          "output_type": "stream",
          "name": "stdout",
          "text": [
            "CPU times: user 1.04 s, sys: 21.9 ms, total: 1.06 s\n",
            "Wall time: 1.05 s\n"
          ]
        }
      ]
    },
    {
      "cell_type": "code",
      "metadata": {
        "id": "JiSaHvuTRso4"
      },
      "source": [
        "fig, ax = plt.subplots()\n",
        "nh,nw = img.shape\n",
        "ax.imshow(img, cmap=\"gray\")\n",
        "for blob in co_ordinates:\n",
        "    y,x,r = blob\n",
        "    c = plt.Circle((x, y), r*1.414, color='red', linewidth=1.5, fill=False)\n",
        "    ax.add_patch(c)\n",
        "ax.plot()  \n",
        "plt.show()"
      ],
      "execution_count": null,
      "outputs": []
    },
    {
      "cell_type": "code",
      "metadata": {
        "colab": {
          "base_uri": "https://localhost:8080/",
          "height": 285
        },
        "id": "eA-Z1N86G30C",
        "outputId": "b6e19ca4-a49d-4c87-a1d3-a40d0fe7b0b1"
      },
      "source": [
        "plt.imshow(LoG(16), cmap='gray')"
      ],
      "execution_count": null,
      "outputs": [
        {
          "output_type": "execute_result",
          "data": {
            "text/plain": [
              "<matplotlib.image.AxesImage at 0x7ff3e53f3590>"
            ]
          },
          "metadata": {},
          "execution_count": 42
        },
        {
          "output_type": "display_data",
          "data": {
            "image/png": "[encoded data removed]",
            "text/plain": [
              "<Figure size 432x288 with 1 Axes>"
            ]
          },
          "metadata": {
            "needs_background": "light"
          }
        }
      ]
    },
    {
      "cell_type": "code",
      "metadata": {
        "colab": {
          "base_uri": "https://localhost:8080/",
          "height": 303
        },
        "id": "vLen4tO8I-qC",
        "outputId": "d4fd1911-d418-438a-bbb1-498feb42797a"
      },
      "source": [
        " # convolving image"
      ],
      "execution_count": null,
      "outputs": [
        {
          "output_type": "stream",
          "name": "stderr",
          "text": [
            "Clipping input data to the valid range for imshow with RGB data ([0..1] for floats or [0..255] for integers).\n"
          ]
        },
        {
          "output_type": "execute_result",
          "data": {
            "text/plain": [
              "<matplotlib.image.AxesImage at 0x7ff3e34eded0>"
            ]
          },
          "metadata": {},
          "execution_count": 61
        },
        {
          "output_type": "display_data",
          "data": {
            "image/png": "[encoded data removed]",
            "text/plain": [
              "<Figure size 432x288 with 1 Axes>"
            ]
          },
          "metadata": {
            "needs_background": "light"
          }
        }
      ]
    },
    {
      "cell_type": "code",
      "metadata": {
        "id": "LBOFENvJLVEh"
      },
      "source": [
        "a = np.random.rand(3, 4, 6)\n",
        "a[1,3,4] = 0.98"
      ],
      "execution_count": null,
      "outputs": []
    },
    {
      "cell_type": "code",
      "metadata": {
        "colab": {
          "base_uri": "https://localhost:8080/"
        },
        "id": "FToSnl2zVd67",
        "outputId": "fe0ec768-6b97-4627-b76a-7104628a2de9"
      },
      "source": [
        "print(a)"
      ],
      "execution_count": null,
      "outputs": [
        {
          "output_type": "stream",
          "name": "stdout",
          "text": [
            "[[[0.41329818 0.16222362 0.3144004  0.68929228 0.75027784 0.72091013]\n",
            "  [0.20672982 0.03753518 0.1249617  0.3657533  0.05745658 0.02366756]\n",
            "  [0.3135633  0.99140067 0.68059953 0.28263382 0.89305484 0.25247278]\n",
            "  [0.71186016 0.17386476 0.75876408 0.22878059 0.1385024  0.31012001]]\n",
            "\n",
            " [[0.87014668 0.06440107 0.23760245 0.16655007 0.92134482 0.83733038]\n",
            "  [0.87721187 0.46447011 0.68095434 0.34061883 0.42198794 0.80005601]\n",
            "  [0.96975607 0.33837891 0.83034258 0.77085048 0.78661312 0.18023713]\n",
            "  [0.58428774 0.647913   0.39936938 0.98591435 0.98       0.19470973]]\n",
            "\n",
            " [[0.51858885 0.82950642 0.7219306  0.51224297 0.78646014 0.66008095]\n",
            "  [0.37619399 0.31763115 0.46449068 0.35212818 0.94094664 0.93746166]\n",
            "  [0.13100415 0.4382076  0.8682654  0.99586004 0.21046964 0.01009961]\n",
            "  [0.74597076 0.13798871 0.59342713 0.92591825 0.23079996 0.37473504]]]\n"
          ]
        }
      ]
    },
    {
      "cell_type": "code",
      "metadata": {
        "colab": {
          "base_uri": "https://localhost:8080/"
        },
        "id": "wlQ5ShjDVhWK",
        "outputId": "b6cc84c4-16c3-4ba3-c40a-7f4c2073818f"
      },
      "source": [
        "argmax(a)"
      ],
      "execution_count": null,
      "outputs": [
        {
          "output_type": "execute_result",
          "data": {
            "text/plain": [
              "63"
            ]
          },
          "metadata": {},
          "execution_count": 114
        }
      ]
    },
    {
      "cell_type": "code",
      "metadata": {
        "id": "7apF6_IDVq96"
      },
      "source": [
        ""
      ],
      "execution_count": null,
      "outputs": []
    }
  ]
}